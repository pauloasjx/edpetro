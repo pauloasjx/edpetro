{
 "cells": [
  {
   "cell_type": "code",
   "execution_count": 2,
   "id": "dcce507d",
   "metadata": {},
   "outputs": [],
   "source": [
    "from tika import parser"
   ]
  },
  {
   "cell_type": "code",
   "execution_count": 18,
   "id": "fa886494",
   "metadata": {},
   "outputs": [],
   "source": [
    "from dataclasses import dataclass"
   ]
  },
  {
   "cell_type": "code",
   "execution_count": 3,
   "id": "11f2b2f5",
   "metadata": {},
   "outputs": [
    {
     "name": "stderr",
     "output_type": "stream",
     "text": [
      "2022-03-31 14:55:33,076 [MainThread  ] [INFO ]  Retrieving http://search.maven.org/remotecontent?filepath=org/apache/tika/tika-server/1.24/tika-server-1.24.jar to /var/folders/04/h394vw3901q79p5pg9qx679c0000gn/T/tika-server.jar.\n",
      "2022-03-31 14:55:50,544 [MainThread  ] [INFO ]  Retrieving http://search.maven.org/remotecontent?filepath=org/apache/tika/tika-server/1.24/tika-server-1.24.jar.md5 to /var/folders/04/h394vw3901q79p5pg9qx679c0000gn/T/tika-server.jar.md5.\n",
      "2022-03-31 14:55:52,539 [MainThread  ] [WARNI]  Failed to see startup log message; retrying...\n"
     ]
    }
   ],
   "source": [
    "raw = parser.from_file('edpetro.pdf')"
   ]
  },
  {
   "cell_type": "code",
   "execution_count": 8,
   "id": "3ed6eba0",
   "metadata": {},
   "outputs": [],
   "source": [
    "raw = raw['content'].replace('\\n', '')"
   ]
  },
  {
   "cell_type": "code",
   "execution_count": 87,
   "id": "16e013f0",
   "metadata": {},
   "outputs": [],
   "source": [
    "@dataclass\n",
    "class Person:\n",
    "    cod: str\n",
    "    name: str\n",
    "    p1: float\n",
    "    p2: float\n",
    "    p3: float\n",
    "    p4: float\n",
    "    p5: float\n",
    "    p6: float\n",
    "    p7: float\n",
    "    _score: str\n",
    "        \n",
    "    @property\n",
    "    def score(self) -> float:\n",
    "        return self._score.split(\" \")[-1]\n",
    "        \n",
    "    def __lt__(self, other):\n",
    "        return self.score > other.score"
   ]
  },
  {
   "cell_type": "code",
   "execution_count": 90,
   "id": "abb06c6a",
   "metadata": {},
   "outputs": [],
   "source": [
    "result = list(\n",
    "    filter(\n",
    "        lambda x: x is not None,\n",
    "        map(\n",
    "            lambda p: Person(\n",
    "                *list(map(lambda x: x.strip(), p.strip().split(\",\")))\n",
    "            ),\n",
    "            raw[4 : raw.find(\"1.1.14.1 ÊNFASE 14:\")].strip().split(\"/\"),\n",
    "        ),\n",
    "    )\n",
    ")"
   ]
  },
  {
   "cell_type": "code",
   "execution_count": 103,
   "id": "c100f317",
   "metadata": {},
   "outputs": [],
   "source": [
    "result.sort()"
   ]
  },
  {
   "cell_type": "code",
   "execution_count": 106,
   "id": "e8a76d35",
   "metadata": {},
   "outputs": [],
   "source": [
    "final = list(zip(list(range(1, len(result)+1)), result))"
   ]
  },
  {
   "cell_type": "code",
   "execution_count": 117,
   "id": "b1b8c9ac",
   "metadata": {},
   "outputs": [],
   "source": [
    "import pandas as pd"
   ]
  },
  {
   "cell_type": "code",
   "execution_count": 123,
   "id": "749f2fbb",
   "metadata": {
    "scrolled": false
   },
   "outputs": [],
   "source": [
    "result_df = pd.DataFrame(list(map(lambda x: {'pos': x[0], 'name': x[1].name, 'score': x[1].score}, final)))"
   ]
  },
  {
   "cell_type": "code",
   "execution_count": 124,
   "id": "53fbf767",
   "metadata": {},
   "outputs": [
    {
     "data": {
      "text/html": [
       "<div>\n",
       "<style scoped>\n",
       "    .dataframe tbody tr th:only-of-type {\n",
       "        vertical-align: middle;\n",
       "    }\n",
       "\n",
       "    .dataframe tbody tr th {\n",
       "        vertical-align: top;\n",
       "    }\n",
       "\n",
       "    .dataframe thead th {\n",
       "        text-align: right;\n",
       "    }\n",
       "</style>\n",
       "<table border=\"1\" class=\"dataframe\">\n",
       "  <thead>\n",
       "    <tr style=\"text-align: right;\">\n",
       "      <th></th>\n",
       "      <th>pos</th>\n",
       "      <th>name</th>\n",
       "      <th>score</th>\n",
       "    </tr>\n",
       "  </thead>\n",
       "  <tbody>\n",
       "    <tr>\n",
       "      <th>0</th>\n",
       "      <td>1</td>\n",
       "      <td>Vinicius da Silva Duarte</td>\n",
       "      <td>96.00</td>\n",
       "    </tr>\n",
       "    <tr>\n",
       "      <th>1</th>\n",
       "      <td>2</td>\n",
       "      <td>Antonio Cesar Valadares de Oliveira</td>\n",
       "      <td>94.00</td>\n",
       "    </tr>\n",
       "    <tr>\n",
       "      <th>2</th>\n",
       "      <td>3</td>\n",
       "      <td>Gustavo Colheri Uchida</td>\n",
       "      <td>90.00</td>\n",
       "    </tr>\n",
       "    <tr>\n",
       "      <th>3</th>\n",
       "      <td>4</td>\n",
       "      <td>Jean Muniz de Souza</td>\n",
       "      <td>90.00</td>\n",
       "    </tr>\n",
       "    <tr>\n",
       "      <th>4</th>\n",
       "      <td>5</td>\n",
       "      <td>Breno Mascarenhas de Cerqueira Menezes</td>\n",
       "      <td>89.00</td>\n",
       "    </tr>\n",
       "  </tbody>\n",
       "</table>\n",
       "</div>"
      ],
      "text/plain": [
       "   pos                                    name  score\n",
       "0    1                Vinicius da Silva Duarte  96.00\n",
       "1    2     Antonio Cesar Valadares de Oliveira  94.00\n",
       "2    3                  Gustavo Colheri Uchida  90.00\n",
       "3    4                     Jean Muniz de Souza  90.00\n",
       "4    5  Breno Mascarenhas de Cerqueira Menezes  89.00"
      ]
     },
     "execution_count": 124,
     "metadata": {},
     "output_type": "execute_result"
    }
   ],
   "source": [
    "result_df.head()"
   ]
  },
  {
   "cell_type": "code",
   "execution_count": 129,
   "id": "dd7950e0",
   "metadata": {},
   "outputs": [],
   "source": [
    "import matplotlib.pyplot as plt"
   ]
  },
  {
   "cell_type": "code",
   "execution_count": 134,
   "id": "69db1e92",
   "metadata": {},
   "outputs": [
    {
     "data": {
      "text/plain": [
       "<AxesSubplot:>"
      ]
     },
     "execution_count": 134,
     "metadata": {},
     "output_type": "execute_result"
    },
    {
     "data": {
      "image/png": "[encoded data removed]",
      "text/plain": [
       "<Figure size 1080x1440 with 1 Axes>"
      ]
     },
     "metadata": {
      "needs_background": "light"
     },
     "output_type": "display_data"
    }
   ],
   "source": [
    "fig = plt.figure(figsize = (15,20))\n",
    "ax = fig.gca()\n",
    "plt.xticks(rotation=90)\n",
    "result_df['score'].hist(ax=ax)"
   ]
  },
  {
   "cell_type": "code",
   "execution_count": null,
   "id": "cc1075d7",
   "metadata": {},
   "outputs": [],
   "source": []
  }
 ],
 "metadata": {
  "kernelspec": {
   "display_name": "Python 3 (ipykernel)",
   "language": "python",
   "name": "python3"
  },
  "language_info": {
   "codemirror_mode": {
    "name": "ipython",
    "version": 3
   },
   "file_extension": ".py",
   "mimetype": "text/x-python",
   "name": "python",
   "nbconvert_exporter": "python",
   "pygments_lexer": "ipython3",
   "version": "3.9.10"
  }
 },
 "nbformat": 4,
 "nbformat_minor": 5
}
